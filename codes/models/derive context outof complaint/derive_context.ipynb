{
 "cells": [
  {
   "cell_type": "code",
   "execution_count": 14,
   "metadata": {},
   "outputs": [],
   "source": [
    "import pandas as pd"
   ]
  },
  {
   "cell_type": "code",
   "execution_count": 55,
   "metadata": {},
   "outputs": [],
   "source": [
    "df = pd.read_csv('test.csv')"
   ]
  },
  {
   "cell_type": "code",
   "execution_count": 56,
   "metadata": {},
   "outputs": [],
   "source": [
    "df = df.dropna()"
   ]
  },
  {
   "cell_type": "code",
   "execution_count": 57,
   "metadata": {},
   "outputs": [
    {
     "data": {
      "text/html": [
       "<div>\n",
       "<style scoped>\n",
       "    .dataframe tbody tr th:only-of-type {\n",
       "        vertical-align: middle;\n",
       "    }\n",
       "\n",
       "    .dataframe tbody tr th {\n",
       "        vertical-align: top;\n",
       "    }\n",
       "\n",
       "    .dataframe thead th {\n",
       "        text-align: right;\n",
       "    }\n",
       "</style>\n",
       "<table border=\"1\" class=\"dataframe\">\n",
       "  <thead>\n",
       "    <tr style=\"text-align: right;\">\n",
       "      <th></th>\n",
       "      <th>Index</th>\n",
       "      <th>Product</th>\n",
       "      <th>subproduct</th>\n",
       "      <th>complaint</th>\n",
       "    </tr>\n",
       "  </thead>\n",
       "  <tbody>\n",
       "    <tr>\n",
       "      <th>0</th>\n",
       "      <td>2</td>\n",
       "      <td>Credit reporting, credit repair services, or o...</td>\n",
       "      <td>Credit reporting</td>\n",
       "      <td>customer: I would like to request the terminat...</td>\n",
       "    </tr>\n",
       "    <tr>\n",
       "      <th>1</th>\n",
       "      <td>3</td>\n",
       "      <td>Debt collection</td>\n",
       "      <td>I do not know</td>\n",
       "      <td>agent: Over the past 2 weeks you have been rec...</td>\n",
       "    </tr>\n",
       "  </tbody>\n",
       "</table>\n",
       "</div>"
      ],
      "text/plain": [
       "   Index                                            Product        subproduct  \\\n",
       "0      2  Credit reporting, credit repair services, or o...  Credit reporting   \n",
       "1      3                                    Debt collection     I do not know   \n",
       "\n",
       "                                           complaint  \n",
       "0  customer: I would like to request the terminat...  \n",
       "1  agent: Over the past 2 weeks you have been rec...  "
      ]
     },
     "execution_count": 57,
     "metadata": {},
     "output_type": "execute_result"
    }
   ],
   "source": [
    "df"
   ]
  },
  {
   "cell_type": "code",
   "execution_count": 58,
   "metadata": {},
   "outputs": [],
   "source": [
    "df1 = pd.DataFrame() \n",
    "df1['complaint'] = df['complaint']"
   ]
  },
  {
   "cell_type": "code",
   "execution_count": 59,
   "metadata": {},
   "outputs": [
    {
     "data": {
      "text/html": [
       "<div>\n",
       "<style scoped>\n",
       "    .dataframe tbody tr th:only-of-type {\n",
       "        vertical-align: middle;\n",
       "    }\n",
       "\n",
       "    .dataframe tbody tr th {\n",
       "        vertical-align: top;\n",
       "    }\n",
       "\n",
       "    .dataframe thead th {\n",
       "        text-align: right;\n",
       "    }\n",
       "</style>\n",
       "<table border=\"1\" class=\"dataframe\">\n",
       "  <thead>\n",
       "    <tr style=\"text-align: right;\">\n",
       "      <th></th>\n",
       "      <th>complaint</th>\n",
       "    </tr>\n",
       "  </thead>\n",
       "  <tbody>\n",
       "    <tr>\n",
       "      <th>0</th>\n",
       "      <td>customer: I would like to request the terminat...</td>\n",
       "    </tr>\n",
       "    <tr>\n",
       "      <th>1</th>\n",
       "      <td>agent: Over the past 2 weeks you have been rec...</td>\n",
       "    </tr>\n",
       "  </tbody>\n",
       "</table>\n",
       "</div>"
      ],
      "text/plain": [
       "                                           complaint\n",
       "0  customer: I would like to request the terminat...\n",
       "1  agent: Over the past 2 weeks you have been rec..."
      ]
     },
     "execution_count": 59,
     "metadata": {},
     "output_type": "execute_result"
    }
   ],
   "source": [
    "df1"
   ]
  },
  {
   "cell_type": "code",
   "execution_count": 60,
   "metadata": {},
   "outputs": [
    {
     "data": {
      "text/plain": [
       "'agent: Over the past 2 weeks you have been receiving higher number of telephone calls from the company it would like to give you credit for being patient with us customer: The calls for credit reduction occur between XXXX XXXX and XXXX XXXX to my cell and at my job The company does not have the right to harass me at work and I want this to stop agent: It is extremely distracting to be told 5 times a day that I have a call from this collection agency while at work'"
      ]
     },
     "execution_count": 60,
     "metadata": {},
     "output_type": "execute_result"
    }
   ],
   "source": [
    "df1['complaint'][1]"
   ]
  },
  {
   "cell_type": "code",
   "execution_count": 66,
   "metadata": {},
   "outputs": [],
   "source": [
    "def classify(complaint,business_words,qualifiers,threshold):\n",
    "    \n",
    "    length = len(complaint)\n",
    "    customer = [i for i in range(length) if complaint.startswith('customer', i)] \n",
    "    agent = [i for i in range(length) if complaint.startswith('agent', i)]\n",
    "    tags = customer+agent\n",
    "    tags.append(length-1)\n",
    "    tags.sort()\n",
    "    \n",
    "    conv = [None] * (len(tags)-1)\n",
    "    \n",
    "    for i in list(range(len(tags)-1)):\n",
    "        conv[i] = complaint[tags[i]:tags[i+1]]\n",
    "    \n",
    "    \n",
    "    for i in list(range(len(conv))):\n",
    "        \n",
    "        talk = conv[i]        \n",
    "        b_first_occurence = [None] * (len(business_words))\n",
    "        q_first_occurence = [None] * (len(qualifiers))\n",
    "     \n",
    "        b_first = 0\n",
    "        q_first = 0\n",
    "        context = 0\n",
    "        indi = \"context not found\"\n",
    "        b_query = \"null\"\n",
    "        q_query = \"null\"\n",
    "        \n",
    "        k = 0\n",
    "        \n",
    "        for j in business_words:\n",
    "            b_first_occurence[k] = talk.find(j)\n",
    "            k = k+1\n",
    "\n",
    "        k = 0\n",
    "        for j in qualifiers:\n",
    "            q_first_occurence[k] = talk.find(j)\n",
    "            k = k+1\n",
    "\n",
    "        b_first_occurence = [item for item in b_first_occurence if item >= 0]\n",
    "        q_first_occurence = [item for item in q_first_occurence if item >= 0]\n",
    "\n",
    "        if b_first_occurence == [] or q_first_occurence == []:\n",
    "            continue       \n",
    "\n",
    "        else: \n",
    "\n",
    "            b_first = min(b_first_occurence)\n",
    "            q_first = min(q_first_occurence)\n",
    "            \n",
    "            if abs(b_first-q_first)<= threshold:\n",
    "                context = 1\n",
    "                b_query = \"\"\n",
    "                q_query = \"\"\n",
    "                k = b_first\n",
    "                while talk[k]!= \" \":\n",
    "                    b_query = b_query + talk[k]\n",
    "                    k+=1\n",
    "                k = q_first\n",
    "                while talk[k] != \" \":\n",
    "                    q_query = q_query + talk[k]\n",
    "                    k+=1\n",
    "                if talk[0]=='a':\n",
    "                    indi = 'context came from agent'\n",
    "                else:\n",
    "                    indi = 'context came from customer'\n",
    "                break\n",
    "            else:\n",
    "                continue\n",
    "    \n",
    "    return context,indi,b_query,q_query \n",
    "      "
   ]
  },
  {
   "cell_type": "code",
   "execution_count": 72,
   "metadata": {
    "scrolled": true
   },
   "outputs": [
    {
     "data": {
      "text/plain": [
       "0       (1, context came from customer, credit, lower)\n",
       "1    (1, context came from customer, credit, reduct...\n",
       "Name: complaint, dtype: object"
      ]
     },
     "execution_count": 72,
     "metadata": {},
     "output_type": "execute_result"
    }
   ],
   "source": [
    "business_words = ['credit' , 'limit','credit limit','mortgage','interest rate']\n",
    "qualifiers = ['reduce','decreased','lower','higher','increased','increment','reduction','increment']\n",
    "threshold = 40\n",
    "df1['complaint'].apply(lambda x: classify(x,business_words,qualifiers,threshold))"
   ]
  },
  {
   "cell_type": "code",
   "execution_count": null,
   "metadata": {},
   "outputs": [],
   "source": []
  },
  {
   "cell_type": "code",
   "execution_count": null,
   "metadata": {},
   "outputs": [],
   "source": []
  }
 ],
 "metadata": {
  "kernelspec": {
   "display_name": "Python 3",
   "language": "python",
   "name": "python3"
  },
  "language_info": {
   "codemirror_mode": {
    "name": "ipython",
    "version": 3
   },
   "file_extension": ".py",
   "mimetype": "text/x-python",
   "name": "python",
   "nbconvert_exporter": "python",
   "pygments_lexer": "ipython3",
   "version": "3.7.0"
  }
 },
 "nbformat": 4,
 "nbformat_minor": 4
}
